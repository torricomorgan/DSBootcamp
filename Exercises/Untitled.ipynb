{
 "cells": [
  {
   "cell_type": "code",
   "execution_count": 8,
   "id": "42da8dd5-5623-4c81-9433-026d9fcff759",
   "metadata": {},
   "outputs": [
    {
     "name": "stdout",
     "output_type": "stream",
     "text": [
      "[20, 40, 60, 80, 100]\n"
     ]
    }
   ],
   "source": [
    "print ([i * 10 for i in range(1,11) if i%2 == 0])"
   ]
  },
  {
   "cell_type": "code",
   "execution_count": 9,
   "id": "4fb85764-6bb7-44db-8229-3e787883958b",
   "metadata": {},
   "outputs": [
    {
     "data": {
      "text/plain": [
       "[20, 40, 60, 80, 100]"
      ]
     },
     "execution_count": 9,
     "metadata": {},
     "output_type": "execute_result"
    }
   ],
   "source": [
    "[num * 10 for num in list(range(1, 11)) if num % 2 == 0]"
   ]
  },
  {
   "cell_type": "code",
   "execution_count": 10,
   "id": "d8041064-3c27-496f-a685-a3c8814d277f",
   "metadata": {},
   "outputs": [],
   "source": [
    "import pandas as pd"
   ]
  },
  {
   "cell_type": "code",
   "execution_count": null,
   "id": "27ecbfcd-8d22-405b-802d-a7691b10522c",
   "metadata": {},
   "outputs": [],
   "source": [
    "pd.Series"
   ]
  }
 ],
 "metadata": {
  "kernelspec": {
   "display_name": "Python 3 (ipykernel)",
   "language": "python",
   "name": "python3"
  },
  "language_info": {
   "codemirror_mode": {
    "name": "ipython",
    "version": 3
   },
   "file_extension": ".py",
   "mimetype": "text/x-python",
   "name": "python",
   "nbconvert_exporter": "python",
   "pygments_lexer": "ipython3",
   "version": "3.11.7"
  }
 },
 "nbformat": 4,
 "nbformat_minor": 5
}
